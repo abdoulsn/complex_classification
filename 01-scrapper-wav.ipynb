{
 "cells": [
  {
   "cell_type": "code",
   "execution_count": 6,
   "metadata": {},
   "outputs": [],
   "source": [
    "import requests, bs4, re\n",
    "from urllib.parse import urljoin\n",
    "import urllib\n",
    "from bs4 import BeautifulSoup, SoupStrainer\n",
    "import re\n",
    "import os"
   ]
  },
  {
   "cell_type": "markdown",
   "metadata": {},
   "source": [
    "Scraper Zenodo"
   ]
  },
  {
   "cell_type": "code",
   "execution_count": 7,
   "metadata": {},
   "outputs": [],
   "source": [
    "# Extraction de liens zenodo\n",
    "file = urllib.request.urlopen('https://zenodo.org/record/1188976').read()\n",
    "f = open('filenames.txt', 'wb')\n",
    "f.write(file)\n",
    "f.close()"
   ]
  },
  {
   "cell_type": "markdown",
   "metadata": {},
   "source": [
    "J'ai nettoyer le fichier filenames manuellement."
   ]
  },
  {
   "cell_type": "code",
   "execution_count": 4,
   "metadata": {},
   "outputs": [],
   "source": [
    "with open('links.txt', 'r') as f: # filename netoyer sans les text et liens nom important\n",
    "    mylist = f.read().splitlines()"
   ]
  },
  {
   "cell_type": "code",
   "execution_count": null,
   "metadata": {},
   "outputs": [],
   "source": [
    "# con liens en list\n",
    "with open('links.txt', 'r') as f: # filename netoyer sans les text et liens nom important\n",
    "    mylist = f.read().splitlines()\n",
    "    \n",
    "    \n",
    "for i in mylist:\n",
    "    file = urllib.request.urlopen(i).read()\n",
    "    f = open('Audio_Speech_Actors', 'ab+')     # Ceci creer un fichier zipper avec les sous dossiers \n",
    "    f.write(file)\n",
    "    f.close()"
   ]
  },
  {
   "cell_type": "markdown",
   "metadata": {},
   "source": [
    "Scraper de Tspace"
   ]
  },
  {
   "cell_type": "code",
   "execution_count": null,
   "metadata": {
    "scrolled": false
   },
   "outputs": [],
   "source": [
    "\n",
    "start_url = 'https://tspace.library.utoronto.ca/handle/1807/24487'\n",
    "\n",
    "def make_soup(url):\n",
    "    r = requests.get(url)\n",
    "    soup = bs4.BeautifulSoup(r.text, 'lxml')\n",
    "    return soup\n",
    "\n",
    "def get_links(url):\n",
    "    soup = make_soup(url)\n",
    "    a_tags = soup.find_all('a', href=re.compile(r\"^/handle/\\d{4}/\\d{5}\"))\n",
    "    links = [urljoin(start_url, a['href'])for a in a_tags]  # convert relative url to absolute url\n",
    "    return links\n",
    "\n",
    "def get_tds(link):\n",
    "    soup = make_soup(link)\n",
    "    tds = soup.find_all('td',  class_=\"table\")\n",
    "    if not tds:\n",
    "        print(link, '')\n",
    "    else:\n",
    "        for td in tds:\n",
    "            print(td.text)\n",
    "            \n",
    "tspacelink = []\n",
    "links = get_links(start_url)\n",
    "for link in links:\n",
    "    get_tds(link)\n",
    "    \n",
    "   #https://tspace.library.utoronto.ca/bitstream/1807/24493/6/YAF_wire_happy.wav"
   ]
  },
  {
   "cell_type": "code",
   "execution_count": null,
   "metadata": {},
   "outputs": [],
   "source": [
    "liens = ['https://tspace.library.utoronto.ca/handle/1807/24501','https://tspace.library.utoronto.ca/handle/1807/24500', \n",
    "            'https://tspace.library.utoronto.ca/handle/1807/24499','https://tspace.library.utoronto.ca/handle/1807/24498', \n",
    "            'https://tspace.library.utoronto.ca/handle/1807/24497','https://tspace.library.utoronto.ca/handle/1807/24496', \n",
    "            'https://tspace.library.utoronto.ca/handle/1807/24495','https://tspace.library.utoronto.ca/handle/1807/24494', \n",
    "            'https://tspace.library.utoronto.ca/handle/1807/24493','https://tspace.library.utoronto.ca/handle/1807/24492', \n",
    "            'https://tspace.library.utoronto.ca/handle/1807/24491','https://tspace.library.utoronto.ca/handle/1807/24490', \n",
    "            'https://tspace.library.utoronto.ca/handle/1807/24489','https://tspace.library.utoronto.ca/handle/1807/24488']\n",
    "\n",
    "# Extraction de liens zenodo\n",
    "for l in liens:\n",
    "    file = urllib.request.urlopen(l).read()\n",
    "    f = open('tspace.txt', 'ab+')\n",
    "    f.write(file)\n",
    "    f.close()"
   ]
  },
  {
   "cell_type": "code",
   "execution_count": null,
   "metadata": {},
   "outputs": [],
   "source": [
    "html = open('tspace.txt', 'r')\n",
    "bs = BeautifulSoup(html, 'html.parser')\n",
    "liens = bs.find_all('a')\n",
    "\n",
    "i = 0\n",
    "for l in liens:\n",
    "    if \".wav\" in l.get(\"href\"):\n",
    "        #print(l.get(\"href\"))\n",
    "        os.system(\"wget \" + l.get(\"href\"))\n",
    "        i+=1"
   ]
  }
 ],
 "metadata": {
  "kernelspec": {
   "display_name": "Python 3",
   "language": "python",
   "name": "python3"
  },
  "language_info": {
   "codemirror_mode": {
    "name": "ipython",
    "version": 3
   },
   "file_extension": ".py",
   "mimetype": "text/x-python",
   "name": "python",
   "nbconvert_exporter": "python",
   "pygments_lexer": "ipython3",
   "version": "3.7.1"
  }
 },
 "nbformat": 4,
 "nbformat_minor": 2
}
