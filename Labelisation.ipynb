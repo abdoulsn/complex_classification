{
 "cells": [
  {
   "cell_type": "markdown",
   "metadata": {},
   "source": [
    "# Importation des librairies"
   ]
  },
  {
   "cell_type": "code",
   "execution_count": 1,
   "metadata": {},
   "outputs": [],
   "source": [
    "import os"
   ]
  },
  {
   "cell_type": "markdown",
   "metadata": {},
   "source": [
    "# Variables globales"
   ]
  },
  {
   "cell_type": "code",
   "execution_count": 2,
   "metadata": {
    "scrolled": false
   },
   "outputs": [],
   "source": [
    "extension = ['.wav']"
   ]
  },
  {
   "cell_type": "markdown",
   "metadata": {},
   "source": [
    "# Fonctions"
   ]
  },
  {
   "cell_type": "code",
   "execution_count": 3,
   "metadata": {},
   "outputs": [],
   "source": [
    "extension = ('.wav')"
   ]
  },
  {
   "cell_type": "code",
   "execution_count": 4,
   "metadata": {},
   "outputs": [],
   "source": [
    "def get_wav(parentpath, extension, listes = []):\n",
    "    ''' \n",
    "    Objectif: elle a pour but de parcourir les dossiers et tant qu'il n'y a plus de dossier il s'arrete .\n",
    "    \n",
    "    Parameters: Path du dossier racine, liste des extensions a rechercher, listes des fichiers trouver dans le path. \n",
    "    \n",
    "    Return: listes des extensions rechercher\n",
    "    \n",
    "    '''\n",
    "    for root, dirs, files in os.walk(parentpath):\n",
    "        for name in files:\n",
    "            if name.endswith((extension)):\n",
    "                listes.append(os.path.join(name))\n",
    "    return  listes       "
   ]
  },
  {
   "cell_type": "markdown",
   "metadata": {},
   "source": [
    "# Labelisation"
   ]
  },
  {
   "cell_type": "markdown",
   "metadata": {},
   "source": [
    "## Labels de la base issue de MEGA."
   ]
  },
  {
   "cell_type": "code",
   "execution_count": 5,
   "metadata": {},
   "outputs": [],
   "source": [
    "mega = get_wav('data/MEGA/', extension)"
   ]
  },
  {
   "cell_type": "code",
   "execution_count": 6,
   "metadata": {},
   "outputs": [],
   "source": [
    "emotion_1 = []\n",
    "for item in mega:\n",
    "    if (item[5:-10]=='02' or item[5:-10]=='06' or item[5:-10]=='06s' or item[5:-10]=='07' or item[5:-10]=='07i' or item[5:-10]=='09' or item[5:-10]=='09i' or item[5:-10]=='10')\\\n",
    "    and (item[7:-7]=='col' or item[7:-7]=='col1'):\n",
    "        emotion_1.append('femme_colere') \n",
    "        \n",
    "    if (item[5:-10]=='01' or item[5:-10]=='03' or item[5:-10]=='04' or item[5:-10]=='05' or item[5:-10]=='08' or item[5:-10]=='08c' or item[5:-10]=='08t')\\\n",
    "    and (item[7:-7]=='col' or item[7:-7]=='col1'):\n",
    "        emotion_1.append('homme_colere')\n",
    "           \n",
    "    if (item[5:-10]=='02' or item[5:-10]=='06' or item[5:-10]=='06s' or item[5:-10]=='07' or item[5:-10]=='07i' or item[5:-10]=='09' or item[5:-10]=='09i' or item[5:-10]=='10')\\\n",
    "    and item[7:-7]=='peu':\n",
    "        emotion_1.append('femme_Peur')\n",
    "        \n",
    "    if (item[5:-10]=='01' or item[5:-10]=='03' or item[5:-10]=='04' or item[5:-10]=='05' or item[5:-10]=='08' or item[5:-10]=='08c' or item[5:-10]=='08t')\\\n",
    "    and item[7:-7]=='peu':\n",
    "        emotion_1.append('homme_Peur')\n",
    "    \n",
    "    if (item[5:-10]=='02' or item[5:-10]=='06' or item[5:-10]=='06s' or item[5:-10]=='07' or item[5:-10]=='07i' or item[5:-10]=='09' or item[5:-10]=='09i' or item[5:-10]=='10')\\\n",
    "    and item[7:-7]=='joi':\n",
    "        emotion_1.append('femme_Joie')\n",
    "        \n",
    "    if (item[5:-10]=='01' or item[5:-10]=='03' or item[5:-10]=='04' or item[5:-10]=='05' or item[5:-10]=='08' or item[5:-10]=='08c' or item[5:-10]=='08t')\\\n",
    "    and item[7:-7]=='joi':\n",
    "        emotion_1.append('homme_Joie')\n",
    "\n",
    "    \n",
    "    if (item[5:-10]=='02' or item[5:-10]=='06' or item[5:-10]=='06s' or item[5:-10]=='07' or item[5:-10]=='07i' or item[5:-10]=='09' or item[5:-10]=='09i' or item[5:-10]=='10')\\\n",
    "    and (item[7:-7]=='tri' or item[7:-7]=='tri1'):\n",
    "        emotion_1.append('femme_Tristesse')\n",
    "        \n",
    "    if (item[5:-10]=='01' or item[5:-10]=='03' or item[5:-10]=='04' or item[5:-10]=='05' or item[5:-10]=='08' or item[5:-10]=='08c' or item[5:-10]=='08t')\\\n",
    "    and (item[7:-7]=='tri' or item[7:-7]=='tri1'):\n",
    "        emotion_1.append('homme_Tristesse')\n",
    "    \n",
    "    if (item[5:-10]=='02' or item[5:-10]=='06' or item[5:-10]=='06s' or item[5:-10]=='07' or item[5:-10]=='07i' or item[5:-10]=='09' or item[5:-10]=='09i' or item[5:-10]=='10')\\\n",
    "    and item[7:-7]=='deg':\n",
    "        emotion_1.append('femme_Dégout')\n",
    "        \n",
    "    if (item[5:-10]=='01' or item[5:-10]=='03' or item[5:-10]=='04' or item[5:-10]=='05' or item[5:-10]=='08' or item[5:-10]=='08c' or item[5:-10]=='08t')\\\n",
    "    and item[7:-7]=='deg':\n",
    "        emotion_1.append('homme_Dégout')\n",
    "        \n",
    "    if (item[5:-10]=='02' or item[5:-10]=='06' or item[5:-10]=='06s' or item[5:-10]=='07' or item[5:-10]=='07i' or item[5:-10]=='09' or item[5:-10]=='09i' or item[5:-10]=='10')\\\n",
    "    and item[7:-7]=='sur':\n",
    "        emotion_1.append('femme_Surprise')\n",
    "        \n",
    "    if (item[5:-10]=='01' or item[5:-10]=='03' or item[5:-10]=='04' or item[5:-10]=='05' or item[5:-10]=='08' or item[5:-10]=='08c' or item[5:-10]=='08t')\\\n",
    "    and item[7:-7]=='sur':\n",
    "        emotion_1.append('homme_Surprise')"
   ]
  },
  {
   "cell_type": "code",
   "execution_count": null,
   "metadata": {},
   "outputs": [],
   "source": [
    "emotion_1"
   ]
  },
  {
   "cell_type": "markdown",
   "metadata": {},
   "source": [
    "## label de la base issue de  Zenodo"
   ]
  },
  {
   "cell_type": "code",
   "execution_count": 8,
   "metadata": {
    "scrolled": false
   },
   "outputs": [],
   "source": [
    "zenodo= get_wav('data/zenodo/', extension)"
   ]
  },
  {
   "cell_type": "code",
   "execution_count": 9,
   "metadata": {},
   "outputs": [],
   "source": [
    "emotion_2 = []\n",
    "for item in zenodo:\n",
    "    if item[6:-16]=='03' and int(item[18:-4])%2==0:\n",
    "        emotion_2.append('Femme_Joie')\n",
    "    elif item[6:-16]=='03' and int(item[18:-4])%2==1:\n",
    "        emotion_2.append('Homme_Joie')\n",
    "    elif item[6:-16]=='04' and int(item[18:-4])%2==0:\n",
    "        emotion_2.append('Femme_Tristesse')\n",
    "    elif item[6:-16]=='04' and int(item[18:-4])%2==1:\n",
    "        emotion_2.append('Homme_Tristesse')\n",
    "    elif item[6:-16]=='05' and int(item[18:-4])%2==0:\n",
    "        emotion_2.append('Femme_Colere')\n",
    "    elif item[6:-16]=='05' and int(item[18:-4])%2==1:\n",
    "        emotion_2.append('Homme_Colere')\n",
    "        \n",
    "    elif item[6:-16]=='06' and int(item[18:-4])%2==0:\n",
    "        emotion_2.append('Femme_Peur')\n",
    "    elif item[6:-16]=='06' and int(item[18:-4])%2==1:\n",
    "        emotion_2.append('Homme_Peur')\n",
    "        \n",
    "    elif item[6:-16]=='07' and int(item[18:-4])%2==0:\n",
    "        emotion_2.append('Femme_Dégout')\n",
    "    elif item[6:-16]=='07' and int(item[18:-4])%2==1:\n",
    "        emotion_2.append('Homme_Dégout')\n",
    "    elif item[:1]=='a':\n",
    "        emotion_2.append('Homme_Colere')\n",
    "    elif item[:1]=='f':\n",
    "        emotion_2.append('Homme_Peur')\n",
    "    elif item[:1]=='h':\n",
    "        emotion_2.append('Homme_Joie')\n",
    "    #elif item[:1]=='n':\n",
    "        #emotion_2.append('neutral')\n",
    "    elif item[:2]=='sa':\n",
    "        emotion_2.append('Homme_Tristesse')"
   ]
  },
  {
   "cell_type": "code",
   "execution_count": null,
   "metadata": {},
   "outputs": [],
   "source": [
    "emotion_2"
   ]
  },
  {
   "cell_type": "markdown",
   "metadata": {},
   "source": [
    "## labels de la base issue de Toronto emotional speech"
   ]
  },
  {
   "cell_type": "code",
   "execution_count": 11,
   "metadata": {},
   "outputs": [],
   "source": [
    "tess = get_wav('data/tess_audio/', extension)"
   ]
  },
  {
   "cell_type": "code",
   "execution_count": 12,
   "metadata": {},
   "outputs": [],
   "source": [
    "emotion_3 = []\n",
    "for index,y in enumerate(tess):\n",
    "    if 'OAF' and 'angry' in y:\n",
    "        emotion_3.append('vieux_colere')\n",
    "    elif 'OAF' and 'disgust' in y:\n",
    "        emotion_3.append('vieux_Dégout')\n",
    "    elif 'OAF' and 'fear' in y:\n",
    "        emotion_3.append('vieux_Peur')\n",
    "    elif 'OAF' and 'fear' in y:\n",
    "        emotion_3.append('vieux_content') \n",
    "    elif 'OAF' and 'sad' in y:\n",
    "        emotion_3.append('vieux_Triste')\n",
    "    elif 'OAF' and 'ps' in y:\n",
    "        emotion_3.append('vieux_suprise')   \n",
    "    elif 'YAF' and 'angry' in y:\n",
    "        emotion_3.append('jeune_colere')    \n",
    "    elif 'YAF' and 'disgust' in y:\n",
    "        emotion_3.append('jeune_Dégout')\n",
    "    elif 'YAF' and 'fear' in y:\n",
    "        emotion_3.append('jeune_Peur')\n",
    "    elif 'YAF' and 'happy' in y:\n",
    "        emotion_3.append('jeune_content') \n",
    "    elif 'YAF' and 'sad' in y:\n",
    "        emotion_3.append('jeune_Triste')\n",
    "    elif 'YAF' and 'ps' in y:\n",
    "        emotion_3.append('jeune_surprise')\n",
    "        "
   ]
  },
  {
   "cell_type": "code",
   "execution_count": null,
   "metadata": {},
   "outputs": [],
   "source": [
    "emotion_3"
   ]
  },
  {
   "cell_type": "code",
   "execution_count": 14,
   "metadata": {},
   "outputs": [],
   "source": [
    "emotions = emotion_1+emotion_2+emotion_3\n",
    "#control\n",
    "len(emotions) == len(emotion_1+emotion_2+emotion_3)"
   ]
  }
 ],
 "metadata": {
  "kernelspec": {
   "display_name": "Python 3",
   "language": "python",
   "name": "python3"
  },
  "language_info": {
   "codemirror_mode": {
    "name": "ipython",
    "version": 3
   },
   "file_extension": ".py",
   "mimetype": "text/x-python",
   "name": "python",
   "nbconvert_exporter": "python",
   "pygments_lexer": "ipython3",
   "version": "3.7.1"
  }
 },
 "nbformat": 4,
 "nbformat_minor": 2
}
